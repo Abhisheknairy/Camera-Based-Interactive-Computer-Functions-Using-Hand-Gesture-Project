{
 "cells": [
  {
   "cell_type": "code",
   "execution_count": 1,
   "id": "5bf8a8bb",
   "metadata": {},
   "outputs": [
    {
     "name": "stderr",
     "output_type": "stream",
     "text": [
      "C:\\Users\\sumit\\anaconda3\\lib\\site-packages\\numpy\\_distributor_init.py:32: UserWarning: loaded more than 1 DLL from .libs:\n",
      "C:\\Users\\sumit\\anaconda3\\lib\\site-packages\\numpy\\.libs\\libopenblas.PYQHXLVVQ7VESDPUVUADXEVJOBGHJPAY.gfortran-win_amd64.dll\n",
      "C:\\Users\\sumit\\anaconda3\\lib\\site-packages\\numpy\\.libs\\libopenblas.XWYDX2IKJW2NMTWSFYNGFUWKQU3LYTCZ.gfortran-win_amd64.dll\n",
      "  stacklevel=1)\n"
     ]
    },
    {
     "name": "stdout",
     "output_type": "stream",
     "text": [
      "pygame 1.9.6\n",
      "Hello from the pygame community. https://www.pygame.org/contribute.html\n"
     ]
    }
   ],
   "source": [
    "import tkinter as tk\n",
    "from tkinter import filedialog\n",
    "import pygame\n",
    "import os\n",
    "\n",
    "class MusicPlayer:\n",
    "    def __init__(self, root):\n",
    "        self.root = root\n",
    "        self.root.title(\"Music Player\")\n",
    "        self.root.geometry(\"800x600\")\n",
    "        \n",
    "        # Initialize Pygame Mixer\n",
    "        pygame.mixer.init()\n",
    "\n",
    "        # Track state\n",
    "        self.paused = False\n",
    "        self.current_track = \"\"\n",
    "\n",
    "        # GUI Setup\n",
    "        self.track_label = tk.Label(root, text=\"No track loaded\", width=40)\n",
    "        self.track_label.pack(pady=20)\n",
    "        \n",
    "        self.play_button = tk.Button(root, text=\"Play\", command=self.play_pause)\n",
    "        self.play_button.pack(pady=5)\n",
    "\n",
    "        self.stop_button = tk.Button(root, text=\"Stop\", command=self.stop)\n",
    "        self.stop_button.pack(pady=5)\n",
    "\n",
    "        self.load_button = tk.Button(root, text=\"Load\", command=self.load_track)\n",
    "        self.load_button.pack(pady=5)\n",
    "        self.stop_button = tk.Button(root, text=\"Exit\", command=self.stop)\n",
    "        self.stop_button.pack(pady=5)\n",
    "        \n",
    "    def play_pause(self):\n",
    "        if self.current_track:\n",
    "            if self.paused:\n",
    "                pygame.mixer.music.unpause()\n",
    "                self.play_button.config(text=\"Pause\")\n",
    "                self.paused = False\n",
    "            else:\n",
    "                pygame.mixer.music.pause()\n",
    "                self.play_button.config(text=\"Play\")\n",
    "                self.paused = True\n",
    "\n",
    "    def stop(self):\n",
    "        if self.current_track:\n",
    "            pygame.mixer.music.stop()\n",
    "            self.play_button.config(text=\"Play\")\n",
    "            self.paused = False\n",
    "\n",
    "    def load_track(self):\n",
    "        self.current_track = filedialog.askopenfilename(filetypes=[(\"MP3 files\", \"*.mp3\")])\n",
    "        if self.current_track:\n",
    "            self.track_label.config(text=os.path.basename(self.current_track))\n",
    "            pygame.mixer.music.load(self.current_track)\n",
    "            pygame.mixer.music.play()\n",
    "            self.play_button.config(text=\"Pause\")\n",
    "            self.paused = False\n",
    "\n",
    "# Create the main window\n",
    "root = tk.Tk()\n",
    "\n",
    "# Create an instance of the MusicPlayer\n",
    "music_player = MusicPlayer(root)\n",
    "\n",
    "# Run the main event loop\n",
    "root.mainloop()\n"
   ]
  },
  {
   "cell_type": "code",
   "execution_count": null,
   "id": "f1be48d8",
   "metadata": {},
   "outputs": [],
   "source": []
  }
 ],
 "metadata": {
  "kernelspec": {
   "display_name": "Python 3 (ipykernel)",
   "language": "python",
   "name": "python3"
  },
  "language_info": {
   "codemirror_mode": {
    "name": "ipython",
    "version": 3
   },
   "file_extension": ".py",
   "mimetype": "text/x-python",
   "name": "python",
   "nbconvert_exporter": "python",
   "pygments_lexer": "ipython3",
   "version": "3.7.6"
  }
 },
 "nbformat": 4,
 "nbformat_minor": 5
}
