{
 "cells": [
  {
   "cell_type": "code",
   "execution_count": 1,
   "metadata": {},
   "outputs": [
    {
     "name": "stderr",
     "output_type": "stream",
     "text": [
      "C:\\Users\\sumit\\anaconda3\\lib\\site-packages\\numpy\\_distributor_init.py:32: UserWarning: loaded more than 1 DLL from .libs:\n",
      "C:\\Users\\sumit\\anaconda3\\lib\\site-packages\\numpy\\.libs\\libopenblas.PYQHXLVVQ7VESDPUVUADXEVJOBGHJPAY.gfortran-win_amd64.dll\n",
      "C:\\Users\\sumit\\anaconda3\\lib\\site-packages\\numpy\\.libs\\libopenblas.XWYDX2IKJW2NMTWSFYNGFUWKQU3LYTCZ.gfortran-win_amd64.dll\n",
      "  stacklevel=1)\n"
     ]
    }
   ],
   "source": [
    "#............................................Training & Testing using deep learning......................................#\n",
    "import os\n",
    "import cv2\n",
    "import time\n",
    "import numpy as np\n",
    "from keras.layers import Conv2D \n",
    "from keras.layers import Dense\n",
    "from keras.layers import Flatten\n",
    "from keras.layers import Dropout\n",
    "from keras.layers import MaxPooling2D\n",
    "from keras.models import Sequential, save_model\n",
    "#from keras.utils import np_utils\n",
    "from keras.utils import to_categorical\n",
    "#from tensorflow.keras.utils import to_categorical\n",
    "#from keras.src.utils.np_utils import to_categorical\n",
    "from keras.callbacks import ModelCheckpoint\n",
    "from keras.models import load_model\n",
    "from sklearn.model_selection import train_test_split\n",
    "from sklearn.utils import shuffle\n",
    "from sklearn.metrics import accuracy_score\n",
    "from sklearn.metrics import classification_report, confusion_matrix\n",
    "import warnings\n",
    "warnings.filterwarnings(action = 'ignore')\n",
    "import seaborn as sns\n",
    "import matplotlib.pyplot as plt\n",
    "%matplotlib inline"
   ]
  },
  {
   "cell_type": "code",
   "execution_count": 2,
   "metadata": {},
   "outputs": [],
   "source": [
    "path = 'Preprocessed/Train/'"
   ]
  },
  {
   "cell_type": "code",
   "execution_count": 3,
   "metadata": {},
   "outputs": [],
   "source": [
    "gestures = os.listdir(path)"
   ]
  },
  {
   "cell_type": "code",
   "execution_count": 4,
   "metadata": {},
   "outputs": [
    {
     "data": {
      "text/plain": [
       "['click', 'dclick', 'down', 'left', 'none', 'rclick', 'right', 'up']"
      ]
     },
     "execution_count": 4,
     "metadata": {},
     "output_type": "execute_result"
    }
   ],
   "source": [
    "gestures"
   ]
  },
  {
   "cell_type": "code",
   "execution_count": 5,
   "metadata": {},
   "outputs": [],
   "source": [
    "dict_labels = {\n",
    "    'click':1,\n",
    "    'dclick': 2,\n",
    "    'down': 3,\n",
    "    'left':4,\n",
    "    'none':5,\n",
    "    'right':6,\n",
    "    'up':7\n",
    "    \n",
    "    \n",
    "    \n",
    "    \n",
    "    \n",
    "}"
   ]
  },
  {
   "cell_type": "code",
   "execution_count": 6,
   "metadata": {},
   "outputs": [
    {
     "name": "stdout",
     "output_type": "stream",
     "text": [
      "['click', 'dclick', 'down', 'left', 'none', 'rclick', 'right', 'up']\n"
     ]
    }
   ],
   "source": [
    "print(list(dict_labels.keys()))"
   ]
  },
  {
   "cell_type": "code",
   "execution_count": 7,
   "metadata": {},
   "outputs": [],
   "source": [
    "x, y = [], []\n",
    "for ix in gestures:\n",
    "    images = os.listdir(path + ix)\n",
    "    for cx in images:\n",
    "        img_path = path + ix + '/' + cx\n",
    "        img = cv2.imread(img_path, 0)\n",
    "        img = img.reshape((50,50,1))\n",
    "        img = img/255.0 \n",
    "        x.append(img)\n",
    "        y.append(dict_labels[ix])"
   ]
  },
  {
   "cell_type": "code",
   "execution_count": 8,
   "metadata": {},
   "outputs": [
    {
     "name": "stdout",
     "output_type": "stream",
     "text": [
      "<class 'numpy.ndarray'> 8000\n"
     ]
    },
    {
     "data": {
      "text/plain": [
       "(8000, 9)"
      ]
     },
     "execution_count": 8,
     "metadata": {},
     "output_type": "execute_result"
    }
   ],
   "source": [
    "X = np.array(x)\n",
    "Y = np.array(y)\n",
    "Y = to_categorical(Y)\n",
    "print(type(Y),len(Y))\n",
    "Y.shape"
   ]
  },
  {
   "cell_type": "code",
   "execution_count": 9,
   "metadata": {},
   "outputs": [
    {
     "data": {
      "text/plain": [
       "<AxesSubplot:ylabel='count'>"
      ]
     },
     "execution_count": 9,
     "metadata": {},
     "output_type": "execute_result"
    },
    {
     "data": {
      "image/png": "[encoded data removed]",
      "text/plain": [
       "<Figure size 1296x576 with 1 Axes>"
      ]
     },
     "metadata": {
      "needs_background": "light"
     },
     "output_type": "display_data"
    }
   ],
   "source": [
    "plt.figure(figsize = (18,8)) \n",
    "sns.countplot(x=list(dict_labels.keys()))"
   ]
  },
  {
   "cell_type": "code",
   "execution_count": 10,
   "metadata": {},
   "outputs": [
    {
     "data": {
      "text/plain": [
       "(8000, 9)"
      ]
     },
     "execution_count": 10,
     "metadata": {},
     "output_type": "execute_result"
    }
   ],
   "source": [
    "Y.shape"
   ]
  },
  {
   "cell_type": "code",
   "execution_count": 11,
   "metadata": {},
   "outputs": [],
   "source": [
    "categories = Y.shape[1]"
   ]
  },
  {
   "cell_type": "code",
   "execution_count": 12,
   "metadata": {},
   "outputs": [],
   "source": [
    "X, Y = shuffle(X, Y, random_state=0)"
   ]
  },
  {
   "cell_type": "code",
   "execution_count": 13,
   "metadata": {},
   "outputs": [
    {
     "data": {
      "text/plain": [
       "(8000, 50, 50, 1)"
      ]
     },
     "execution_count": 13,
     "metadata": {},
     "output_type": "execute_result"
    }
   ],
   "source": [
    "X.shape"
   ]
  },
  {
   "cell_type": "code",
   "execution_count": 14,
   "metadata": {},
   "outputs": [],
   "source": [
    "X_train, X_test, Y_train, Y_test = train_test_split(X, Y, test_size=0.3)"
   ]
  },
  {
   "cell_type": "code",
   "execution_count": 15,
   "metadata": {},
   "outputs": [
    {
     "name": "stdout",
     "output_type": "stream",
     "text": [
      "(5600, 50, 50, 1) (2400, 50, 50, 1)\n",
      "(5600, 9) (2400, 9)\n"
     ]
    }
   ],
   "source": [
    "print(X_train.shape, X_test.shape)\n",
    "print(Y_train.shape, Y_test.shape)"
   ]
  },
  {
   "cell_type": "code",
   "execution_count": 16,
   "metadata": {},
   "outputs": [
    {
     "name": "stdout",
     "output_type": "stream",
     "text": [
      "Model: \"sequential\"\n",
      "_________________________________________________________________\n",
      " Layer (type)                Output Shape              Param #   \n",
      "=================================================================\n",
      " conv2d (Conv2D)             (None, 48, 48, 64)        640       \n",
      "                                                                 \n",
      " max_pooling2d (MaxPooling2D  (None, 24, 24, 64)       0         \n",
      " )                                                               \n",
      "                                                                 \n",
      " conv2d_1 (Conv2D)           (None, 22, 22, 64)        36928     \n",
      "                                                                 \n",
      " max_pooling2d_1 (MaxPooling  (None, 11, 11, 64)       0         \n",
      " 2D)                                                             \n",
      "                                                                 \n",
      " conv2d_2 (Conv2D)           (None, 9, 9, 64)          36928     \n",
      "                                                                 \n",
      " max_pooling2d_2 (MaxPooling  (None, 4, 4, 64)         0         \n",
      " 2D)                                                             \n",
      "                                                                 \n",
      " flatten (Flatten)           (None, 1024)              0         \n",
      "                                                                 \n",
      " dense (Dense)               (None, 128)               131200    \n",
      "                                                                 \n",
      " dropout (Dropout)           (None, 128)               0         \n",
      "                                                                 \n",
      " dense_1 (Dense)             (None, 9)                 1161      \n",
      "                                                                 \n",
      "=================================================================\n",
      "Total params: 206,857\n",
      "Trainable params: 206,857\n",
      "Non-trainable params: 0\n",
      "_________________________________________________________________\n"
     ]
    }
   ],
   "source": [
    "model = Sequential()\n",
    "model.add(Conv2D(64, kernel_size=(3,3), activation = 'relu', input_shape=(50,50 ,1) ))\n",
    "model.add(MaxPooling2D(pool_size = (2, 2)))\n",
    "\n",
    "model.add(Conv2D(64, kernel_size = (3, 3), activation = 'relu'))\n",
    "model.add(MaxPooling2D(pool_size = (2, 2)))\n",
    "\n",
    "model.add(Conv2D(64, kernel_size = (3, 3), activation = 'relu'))\n",
    "model.add(MaxPooling2D(pool_size = (2, 2)))\n",
    "\n",
    "model.add(Flatten())\n",
    "model.add(Dense(128, activation = 'relu'))\n",
    "model.add(Dropout(0.20))\n",
    "model.add(Dense(categories, activation = 'softmax'))\n",
    "\n",
    "model.summary()"
   ]
  },
  {
   "cell_type": "code",
   "execution_count": 17,
   "metadata": {},
   "outputs": [],
   "source": [
    "model.compile(optimizer='Adam', metrics=['accuracy'], loss='categorical_crossentropy')"
   ]
  },
  {
   "cell_type": "code",
   "execution_count": 18,
   "metadata": {
    "scrolled": false
   },
   "outputs": [
    {
     "name": "stdout",
     "output_type": "stream",
     "text": [
      "Epoch 1/10\n",
      "44/44 [==============================] - 26s 545ms/step - loss: 0.5325 - accuracy: 0.8334 - val_loss: 0.0049 - val_accuracy: 1.0000\n",
      "Epoch 2/10\n",
      "44/44 [==============================] - 22s 490ms/step - loss: 0.0042 - accuracy: 0.9993 - val_loss: 0.0014 - val_accuracy: 1.0000\n",
      "Epoch 3/10\n",
      "44/44 [==============================] - 21s 486ms/step - loss: 0.0019 - accuracy: 0.9998 - val_loss: 2.7754e-04 - val_accuracy: 1.0000\n",
      "Epoch 4/10\n",
      "44/44 [==============================] - 22s 500ms/step - loss: 3.7219e-04 - accuracy: 1.0000 - val_loss: 3.8076e-05 - val_accuracy: 1.0000\n",
      "Epoch 5/10\n",
      "44/44 [==============================] - 22s 501ms/step - loss: 5.5085e-04 - accuracy: 0.9998 - val_loss: 4.0418e-05 - val_accuracy: 1.0000\n",
      "Epoch 6/10\n",
      "44/44 [==============================] - 22s 496ms/step - loss: 1.3670e-04 - accuracy: 1.0000 - val_loss: 1.8120e-05 - val_accuracy: 1.0000\n",
      "Epoch 7/10\n",
      "44/44 [==============================] - 23s 515ms/step - loss: 8.2418e-05 - accuracy: 1.0000 - val_loss: 1.1520e-05 - val_accuracy: 1.0000\n",
      "Epoch 8/10\n",
      "44/44 [==============================] - 22s 511ms/step - loss: 6.6799e-05 - accuracy: 1.0000 - val_loss: 9.5168e-06 - val_accuracy: 1.0000\n",
      "Epoch 9/10\n",
      "44/44 [==============================] - 22s 508ms/step - loss: 9.1749e-05 - accuracy: 1.0000 - val_loss: 8.5483e-06 - val_accuracy: 1.0000\n",
      "Epoch 10/10\n",
      "44/44 [==============================] - 23s 514ms/step - loss: 4.5976e-05 - accuracy: 1.0000 - val_loss: 7.0165e-06 - val_accuracy: 1.0000\n"
     ]
    }
   ],
   "source": [
    "history = model.fit(X_train, Y_train, batch_size=128, epochs=10, validation_data=[X_test, Y_test])"
   ]
  },
  {
   "cell_type": "code",
   "execution_count": 19,
   "metadata": {},
   "outputs": [
    {
     "data": {
      "image/png": "[encoded data removed]",
      "text/plain": [
       "<Figure size 432x288 with 1 Axes>"
      ]
     },
     "metadata": {
      "needs_background": "light"
     },
     "output_type": "display_data"
    }
   ],
   "source": [
    "plt.plot(history.history['accuracy'])\n",
    "plt.plot(history.history['val_accuracy'])\n",
    "plt.title(\"Accuracy\")\n",
    "plt.xlabel('epoch')\n",
    "plt.ylabel('accuracy')\n",
    "plt.legend(['train','test']) \n",
    "plt.show()"
   ]
  },
  {
   "cell_type": "code",
   "execution_count": 20,
   "metadata": {},
   "outputs": [],
   "source": [
    "model.save('CNN_model.h5')"
   ]
  },
  {
   "cell_type": "code",
   "execution_count": 21,
   "metadata": {},
   "outputs": [],
   "source": [
    "m = load_model('CNN_model.h5')"
   ]
  },
  {
   "cell_type": "code",
   "execution_count": 22,
   "metadata": {},
   "outputs": [],
   "source": [
    "test_data = os.listdir('Test/')"
   ]
  },
  {
   "cell_type": "code",
   "execution_count": 23,
   "metadata": {},
   "outputs": [
    {
     "data": {
      "text/plain": [
       "{'click': 1,\n",
       " 'dclick': 2,\n",
       " 'down': 3,\n",
       " 'left': 4,\n",
       " 'none': 5,\n",
       " 'rclick': 6,\n",
       " 'right': 7,\n",
       " 'up': 8}"
      ]
     },
     "execution_count": 23,
     "metadata": {},
     "output_type": "execute_result"
    }
   ],
   "source": [
    "dict_labels"
   ]
  },
  {
   "cell_type": "code",
   "execution_count": 24,
   "metadata": {},
   "outputs": [
    {
     "name": "stdout",
     "output_type": "stream",
     "text": [
      "click\n",
      "dclick\n",
      "down\n",
      "left\n",
      "none\n",
      "rclick\n",
      "right\n",
      "up\n"
     ]
    }
   ],
   "source": [
    "    for ix in test_data:\n",
    "        print(ix)"
   ]
  },
  {
   "cell_type": "code",
   "execution_count": 25,
   "metadata": {},
   "outputs": [
    {
     "name": "stdout",
     "output_type": "stream",
     "text": [
      "Test/click/1.jpg\n",
      "Test/click/2.jpg\n",
      "Test/click/3.jpg\n",
      "Test/click/4.jpg\n",
      "Test/click/5.jpg\n",
      "Test/click/6.jpg\n",
      "Test/click/7.jpg\n",
      "Test/click/8.jpg\n",
      "Test/click/9.jpg\n",
      "Test/dclick/1.jpg\n",
      "Test/dclick/2.jpg\n",
      "Test/dclick/3.jpg\n",
      "Test/dclick/4.jpg\n",
      "Test/dclick/5.jpg\n",
      "Test/dclick/6.jpg\n",
      "Test/dclick/7.jpg\n",
      "Test/dclick/8.jpg\n",
      "Test/dclick/9.jpg\n",
      "Test/down/1.jpg\n",
      "Test/down/2.jpg\n",
      "Test/down/3.jpg\n",
      "Test/down/4.jpg\n",
      "Test/down/5.jpg\n",
      "Test/down/6.jpg\n",
      "Test/down/7.jpg\n",
      "Test/down/8.jpg\n",
      "Test/down/9.jpg\n",
      "Test/left/1.jpg\n",
      "Test/left/2.jpg\n",
      "Test/left/3.jpg\n",
      "Test/left/4.jpg\n",
      "Test/left/5.jpg\n",
      "Test/left/6.jpg\n",
      "Test/left/7.jpg\n",
      "Test/left/8.jpg\n",
      "Test/left/9.jpg\n",
      "Test/none/1.jpg\n",
      "Test/none/2.jpg\n",
      "Test/none/3.jpg\n",
      "Test/none/4.jpg\n",
      "Test/none/5.jpg\n",
      "Test/none/6.jpg\n",
      "Test/none/7.jpg\n",
      "Test/none/8.jpg\n",
      "Test/none/9.jpg\n",
      "Test/rclick/1.jpg\n",
      "Test/rclick/2.jpg\n",
      "Test/rclick/3.jpg\n",
      "Test/rclick/4.jpg\n",
      "Test/rclick/5.jpg\n",
      "Test/rclick/6.jpg\n",
      "Test/rclick/7.jpg\n",
      "Test/rclick/8.jpg\n",
      "Test/rclick/9.jpg\n",
      "Test/right/1.jpg\n",
      "Test/right/2.jpg\n",
      "Test/right/3.jpg\n",
      "Test/right/4.jpg\n",
      "Test/right/5.jpg\n",
      "Test/right/6.jpg\n",
      "Test/right/7.jpg\n",
      "Test/right/8.jpg\n",
      "Test/right/9.jpg\n",
      "Test/up/1.jpg\n",
      "Test/up/2.jpg\n",
      "Test/up/3.jpg\n",
      "Test/up/4.jpg\n",
      "Test/up/5.jpg\n",
      "Test/up/6.jpg\n",
      "Test/up/7.jpg\n",
      "Test/up/8.jpg\n",
      "Test/up/9.jpg\n"
     ]
    }
   ],
   "source": [
    "x, y = [], []\n",
    "for ix in test_data:\n",
    "    images = os.listdir('Test/' + ix)\n",
    "    for cx in range(1,10):\n",
    "        img_path = 'Test/' + ix + '/' + str(cx) + '.jpg'\n",
    "        print(img_path)\n",
    "        img = cv2.imread(img_path, 0)\n",
    "        img = img.reshape((50,50,1))\n",
    "        img = img/255.0\n",
    "        x.append(img)\n",
    "        y.append(dict_labels[ix])"
   ]
  },
  {
   "cell_type": "code",
   "execution_count": 26,
   "metadata": {},
   "outputs": [],
   "source": [
    "X_t = np.array(x)\n",
    "y_t = np.array(y) \n",
    "Y_t = to_categorical(y_t)"
   ]
  },
  {
   "cell_type": "code",
   "execution_count": 27,
   "metadata": {},
   "outputs": [
    {
     "data": {
      "text/plain": [
       "(72, 50, 50, 1)"
      ]
     },
     "execution_count": 27,
     "metadata": {},
     "output_type": "execute_result"
    }
   ],
   "source": [
    "X_t.shape"
   ]
  },
  {
   "cell_type": "code",
   "execution_count": 28,
   "metadata": {},
   "outputs": [
    {
     "name": "stdout",
     "output_type": "stream",
     "text": [
      "3/3 [==============================] - 0s 20ms/step\n"
     ]
    }
   ],
   "source": [
    "y_pred = m.predict(X_t)"
   ]
  },
  {
   "cell_type": "code",
   "execution_count": 29,
   "metadata": {},
   "outputs": [
    {
     "name": "stdout",
     "output_type": "stream",
     "text": [
      "Accuracy: 1.0\n"
     ]
    }
   ],
   "source": [
    "acc = accuracy_score(Y_t, y_pred.round())\n",
    "print('Accuracy:', acc)"
   ]
  },
  {
   "cell_type": "code",
   "execution_count": 30,
   "metadata": {},
   "outputs": [
    {
     "name": "stdout",
     "output_type": "stream",
     "text": [
      "              precision    recall  f1-score   support\n",
      "\n",
      "           0       0.00      0.00      0.00         0\n",
      "           1       1.00      1.00      1.00         9\n",
      "           2       1.00      1.00      1.00         9\n",
      "           3       1.00      1.00      1.00         9\n",
      "           4       1.00      1.00      1.00         9\n",
      "           5       1.00      1.00      1.00         9\n",
      "           6       1.00      1.00      1.00         9\n",
      "           7       1.00      1.00      1.00         9\n",
      "           8       1.00      1.00      1.00         9\n",
      "\n",
      "   micro avg       1.00      1.00      1.00        72\n",
      "   macro avg       0.89      0.89      0.89        72\n",
      "weighted avg       1.00      1.00      1.00        72\n",
      " samples avg       1.00      1.00      1.00        72\n",
      "\n"
     ]
    }
   ],
   "source": [
    "print(classification_report(y_pred.round(), Y_t))"
   ]
  },
  {
   "cell_type": "code",
   "execution_count": null,
   "metadata": {},
   "outputs": [],
   "source": []
  },
  {
   "cell_type": "code",
   "execution_count": null,
   "metadata": {},
   "outputs": [],
   "source": []
  }
 ],
 "metadata": {
  "kernelspec": {
   "display_name": "Python 3 (ipykernel)",
   "language": "python",
   "name": "python3"
  },
  "language_info": {
   "codemirror_mode": {
    "name": "ipython",
    "version": 3
   },
   "file_extension": ".py",
   "mimetype": "text/x-python",
   "name": "python",
   "nbconvert_exporter": "python",
   "pygments_lexer": "ipython3",
   "version": "3.11.5"
  }
 },
 "nbformat": 4,
 "nbformat_minor": 2
}
