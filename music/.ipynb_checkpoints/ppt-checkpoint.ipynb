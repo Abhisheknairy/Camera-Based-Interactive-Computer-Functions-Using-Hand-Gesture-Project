{
 "cells": [
  {
   "cell_type": "code",
   "execution_count": 1,
   "id": "ade6fba4",
   "metadata": {},
   "outputs": [],
   "source": [
    "#pip install python-pptx"
   ]
  },
  {
   "cell_type": "code",
   "execution_count": null,
   "id": "be9465cc",
   "metadata": {},
   "outputs": [],
   "source": [
    "from pptx import Presentation\n",
    "\n",
    "# Load the PowerPoint presentation\n",
    "pptx_file = \"your_presentation.pptx\"\n",
    "prs = Presentation(pptx_file)\n",
    "\n",
    "# Add a new slide (layout=0 represents a blank slide)\n",
    "slide_layout = prs.slide_layouts[0]\n",
    "slide = prs.slides.add_slide(slide_layout)\n",
    "\n",
    "# Access the title and content placeholders of the slide\n",
    "title_placeholder = slide.placeholders[0]  # Assuming the title placeholder is at index 0\n",
    "content_placeholder = slide.placeholders[1]  # Assuming the content placeholder is at index 1\n",
    "\n",
    "# Set the title and content of the slide\n",
    "title_placeholder.text = \"New Slide Title\"\n",
    "content_placeholder.text = \"This is the content of the new slide.\"\n",
    "\n",
    "# Save the modified presentation\n",
    "output_pptx_file = \"modified_presentation.pptx\"\n",
    "prs.save(output_pptx_file)\n",
    "\n",
    "print(\"Presentation modified and saved successfully!\")\n"
   ]
  }
 ],
 "metadata": {
  "kernelspec": {
   "display_name": "Python 3 (ipykernel)",
   "language": "python",
   "name": "python3"
  },
  "language_info": {
   "codemirror_mode": {
    "name": "ipython",
    "version": 3
   },
   "file_extension": ".py",
   "mimetype": "text/x-python",
   "name": "python",
   "nbconvert_exporter": "python",
   "pygments_lexer": "ipython3",
   "version": "3.7.6"
  }
 },
 "nbformat": 4,
 "nbformat_minor": 5
}
