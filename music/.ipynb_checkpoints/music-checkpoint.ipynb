{
 "cells": [
  {
   "cell_type": "code",
   "execution_count": 1,
   "id": "4dbdf23c",
   "metadata": {},
   "outputs": [],
   "source": [
    "import random"
   ]
  },
  {
   "cell_type": "code",
   "execution_count": 2,
   "id": "1523754e",
   "metadata": {},
   "outputs": [],
   "source": [
    "path='C:/Users/sumit/Desktop/controlling laptop final/music/files/'"
   ]
  },
  {
   "cell_type": "code",
   "execution_count": 3,
   "id": "8a9ea893",
   "metadata": {},
   "outputs": [
    {
     "name": "stderr",
     "output_type": "stream",
     "text": [
      "C:\\Users\\sumit\\anaconda3\\lib\\site-packages\\numpy\\_distributor_init.py:32: UserWarning: loaded more than 1 DLL from .libs:\n",
      "C:\\Users\\sumit\\anaconda3\\lib\\site-packages\\numpy\\.libs\\libopenblas.PYQHXLVVQ7VESDPUVUADXEVJOBGHJPAY.gfortran-win_amd64.dll\n",
      "C:\\Users\\sumit\\anaconda3\\lib\\site-packages\\numpy\\.libs\\libopenblas.XWYDX2IKJW2NMTWSFYNGFUWKQU3LYTCZ.gfortran-win_amd64.dll\n",
      "  stacklevel=1)\n"
     ]
    },
    {
     "name": "stdout",
     "output_type": "stream",
     "text": [
      "pygame 1.9.6\n",
      "Hello from the pygame community. https://www.pygame.org/contribute.html\n"
     ]
    }
   ],
   "source": [
    "import pygame\n",
    "\n",
    "def play_music(file_path):\n",
    "    pygame.mixer.init()\n",
    "    pygame.mixer.music.load(file_path)\n",
    "    pygame.mixer.music.play()\n"
   ]
  },
  {
   "cell_type": "code",
   "execution_count": 4,
   "id": "8eaa3d42",
   "metadata": {},
   "outputs": [],
   "source": [
    "import pygame\n",
    "import os\n",
    "\n",
    "def play_music(file_path):\n",
    "    pygame.mixer.init()\n",
    "    pygame.mixer.music.load(file_path)\n",
    "    pygame.mixer.music.play()\n",
    "\n",
    "def pause_music():\n",
    "    pygame.mixer.music.pause()\n",
    "\n",
    "def unpause_music():\n",
    "    pygame.mixer.music.unpause()\n",
    "\n",
    "def stop_music():\n",
    "    pygame.mixer.music.stop()\n",
    "\n",
    "def increase_volume(factor):\n",
    "    current_volume = pygame.mixer.music.get_volume()\n",
    "    new_volume = min(current_volume + factor, 1.0)  # Ensure volume does not exceed 1.0\n",
    "    pygame.mixer.music.set_volume(new_volume)\n",
    "    print(\"Volume increased to:\", new_volume)\n",
    "def decrease_volume(step=0.1):\n",
    "    current_volume = pygame.mixer.music.get_volume()\n",
    "    new_volume = max(current_volume - step, 0.0)\n",
    "    pygame.mixer.music.set_volume(new_volume)"
   ]
  },
  {
   "cell_type": "code",
   "execution_count": 5,
   "id": "b7493b26",
   "metadata": {},
   "outputs": [],
   "source": [
    "import os\n",
    "\n",
    "def load_files_in_folder(folder_path):\n",
    "    files = []\n",
    "    for file_name in os.listdir(folder_path):\n",
    "        if os.path.isfile(os.path.join(folder_path, file_name)):\n",
    "            files.append(os.path.join(folder_path, file_name))\n",
    "    return files\n"
   ]
  },
  {
   "cell_type": "code",
   "execution_count": 6,
   "id": "9eefbcda",
   "metadata": {},
   "outputs": [],
   "source": [
    "def process_music():\n",
    "    \n",
    "    files = load_files_in_folder(path)\n",
    "    print(\"Files in folder:\")\n",
    "    for file in files:\n",
    "        print(file)\n",
    "    random_integer = random.randint(0, len(files)-1)\n",
    "    print(random_integer)\n",
    "    fname=path+str(random_integer)+'.mp3'\n",
    "    print(fname)\n",
    "    play_music(fname)\n",
    "    pygame.time.wait(5000)\n",
    "    pause_music()\n",
    "\n",
    "    # Resume after 2 seconds\n",
    "    pygame.time.wait(2000)\n",
    "    unpause_music()\n",
    "\n",
    "    \n",
    "    for _ in range(5):\n",
    "        pygame.time.wait(5000)\n",
    "        increase_volume(0.2)\n",
    "\n",
    "    # Stop after 10 seconds\n",
    "    pygame.time.wait(10000)\n",
    "    stop_music()\n",
    "    "
   ]
  },
  {
   "cell_type": "code",
   "execution_count": 7,
   "id": "30ac4d5a",
   "metadata": {},
   "outputs": [
    {
     "name": "stdout",
     "output_type": "stream",
     "text": [
      "Files in folder:\n",
      "C:/Users/sumit/Desktop/controlling laptop final/music/files/0.mp3\n",
      "C:/Users/sumit/Desktop/controlling laptop final/music/files/1.mp3\n",
      "C:/Users/sumit/Desktop/controlling laptop final/music/files/10.mp3\n",
      "C:/Users/sumit/Desktop/controlling laptop final/music/files/11.mp3\n",
      "C:/Users/sumit/Desktop/controlling laptop final/music/files/12.mp3\n",
      "C:/Users/sumit/Desktop/controlling laptop final/music/files/13.mp3\n",
      "C:/Users/sumit/Desktop/controlling laptop final/music/files/14.mp3\n",
      "C:/Users/sumit/Desktop/controlling laptop final/music/files/15.mp3\n",
      "C:/Users/sumit/Desktop/controlling laptop final/music/files/16.mp3\n",
      "C:/Users/sumit/Desktop/controlling laptop final/music/files/17.mp3\n",
      "C:/Users/sumit/Desktop/controlling laptop final/music/files/18.mp3\n",
      "C:/Users/sumit/Desktop/controlling laptop final/music/files/2.mp3\n",
      "C:/Users/sumit/Desktop/controlling laptop final/music/files/3.mp3\n",
      "C:/Users/sumit/Desktop/controlling laptop final/music/files/4.mp3\n",
      "C:/Users/sumit/Desktop/controlling laptop final/music/files/5.mp3\n",
      "C:/Users/sumit/Desktop/controlling laptop final/music/files/6.mp3\n",
      "C:/Users/sumit/Desktop/controlling laptop final/music/files/7.mp3\n",
      "C:/Users/sumit/Desktop/controlling laptop final/music/files/8.mp3\n",
      "C:/Users/sumit/Desktop/controlling laptop final/music/files/9.mp3\n",
      "6\n",
      "C:/Users/sumit/Desktop/controlling laptop final/music/files/6.mp3\n",
      "Volume increased to: 1.0\n",
      "Volume increased to: 1.0\n",
      "Volume increased to: 1.0\n",
      "Volume increased to: 1.0\n",
      "Volume increased to: 1.0\n"
     ]
    }
   ],
   "source": [
    "\n",
    "process_music()"
   ]
  },
  {
   "cell_type": "code",
   "execution_count": 8,
   "id": "350d7cb1",
   "metadata": {},
   "outputs": [
    {
     "name": "stdout",
     "output_type": "stream",
     "text": [
      "Files in folder:\n",
      "C:/Users/sumit/Desktop/controlling laptop final/music/files/0.mp3\n",
      "C:/Users/sumit/Desktop/controlling laptop final/music/files/1.mp3\n",
      "C:/Users/sumit/Desktop/controlling laptop final/music/files/10.mp3\n",
      "C:/Users/sumit/Desktop/controlling laptop final/music/files/11.mp3\n",
      "C:/Users/sumit/Desktop/controlling laptop final/music/files/12.mp3\n",
      "C:/Users/sumit/Desktop/controlling laptop final/music/files/13.mp3\n",
      "C:/Users/sumit/Desktop/controlling laptop final/music/files/14.mp3\n",
      "C:/Users/sumit/Desktop/controlling laptop final/music/files/15.mp3\n",
      "C:/Users/sumit/Desktop/controlling laptop final/music/files/16.mp3\n",
      "C:/Users/sumit/Desktop/controlling laptop final/music/files/17.mp3\n",
      "C:/Users/sumit/Desktop/controlling laptop final/music/files/18.mp3\n",
      "C:/Users/sumit/Desktop/controlling laptop final/music/files/2.mp3\n",
      "C:/Users/sumit/Desktop/controlling laptop final/music/files/3.mp3\n",
      "C:/Users/sumit/Desktop/controlling laptop final/music/files/4.mp3\n",
      "C:/Users/sumit/Desktop/controlling laptop final/music/files/5.mp3\n",
      "C:/Users/sumit/Desktop/controlling laptop final/music/files/6.mp3\n",
      "C:/Users/sumit/Desktop/controlling laptop final/music/files/7.mp3\n",
      "C:/Users/sumit/Desktop/controlling laptop final/music/files/8.mp3\n",
      "C:/Users/sumit/Desktop/controlling laptop final/music/files/9.mp3\n",
      "C:/Users/sumit/Desktop/controlling laptop final/music/files/9.mp3\n"
     ]
    }
   ],
   "source": [
    "files = load_files_in_folder(path)\n",
    "print(\"Files in folder:\")\n",
    "for file in files:\n",
    "    print(file)\n",
    "print(file)"
   ]
  },
  {
   "cell_type": "code",
   "execution_count": null,
   "id": "d70db925",
   "metadata": {},
   "outputs": [
    {
     "name": "stdout",
     "output_type": "stream",
     "text": [
      "pause\n",
      "unpause\n",
      "play\n",
      "1\n",
      "C:/Users/sumit/Desktop/controlling laptop final/music/files/1.mp3\n",
      "pause\n",
      "unpause\n",
      "up\n",
      "Volume increased to: 1.0\n",
      "Volume increased to: 1.0\n",
      "Volume increased to: 1.0\n",
      "Volume increased to: 1.0\n",
      "Volume increased to: 1.0\n",
      "down\n",
      "stop\n"
     ]
    }
   ],
   "source": [
    "count=0\n",
    "while True:\n",
    "    f=open('task.txt','r')\n",
    "    task=f.read()\n",
    "    f.close()\n",
    "    if task!='':\n",
    "        print(task)\n",
    "        if task=='play':\n",
    "            random_integer = random.randint(0, len(files)-1)\n",
    "            print(random_integer)\n",
    "            count=random_integer\n",
    "            fname=path+str(random_integer)+'.mp3'\n",
    "            print(fname)\n",
    "            play_music(fname)\n",
    "        if task=='next':\n",
    "            stop_music()\n",
    "            if count==len(files):\n",
    "                count=0\n",
    "            else:\n",
    "                count=count+1\n",
    "            fname=path+str(count)+'.mp3'\n",
    "            print(fname)\n",
    "            play_music(fname)\n",
    "        elif task=='stop':\n",
    "            stop_music()\n",
    "        elif task=='pause':\n",
    "            pause_music()\n",
    "        elif task=='unpause':\n",
    "            unpause_music()\n",
    "        elif task=='up':\n",
    "            for _ in range(5):\n",
    "                pygame.time.wait(3000)\n",
    "                increase_volume(0.2)\n",
    "        elif task=='down':\n",
    "            for _ in range(5):\n",
    "                pygame.time.wait(3000)\n",
    "                decrease_volume(0.2)\n",
    "        f=open('task.txt','w')\n",
    "        f.write('')\n",
    "        f.close()\n",
    "            \n",
    "            "
   ]
  },
  {
   "cell_type": "code",
   "execution_count": null,
   "id": "4729c950",
   "metadata": {},
   "outputs": [],
   "source": []
  }
 ],
 "metadata": {
  "kernelspec": {
   "display_name": "Python 3 (ipykernel)",
   "language": "python",
   "name": "python3"
  },
  "language_info": {
   "codemirror_mode": {
    "name": "ipython",
    "version": 3
   },
   "file_extension": ".py",
   "mimetype": "text/x-python",
   "name": "python",
   "nbconvert_exporter": "python",
   "pygments_lexer": "ipython3",
   "version": "3.7.6"
  }
 },
 "nbformat": 4,
 "nbformat_minor": 5
}
