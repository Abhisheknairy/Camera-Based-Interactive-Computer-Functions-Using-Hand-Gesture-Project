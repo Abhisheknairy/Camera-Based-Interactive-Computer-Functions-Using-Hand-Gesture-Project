{
 "cells": [
  {
   "cell_type": "code",
   "execution_count": 1,
   "id": "73e2a580",
   "metadata": {},
   "outputs": [],
   "source": [
    "#pip install python-pptx"
   ]
  },
  {
   "cell_type": "code",
   "execution_count": 3,
   "id": "ae194ca1",
   "metadata": {},
   "outputs": [
    {
     "name": "stdout",
     "output_type": "stream",
     "text": [
      "Presentation modified and saved successfully!\n"
     ]
    }
   ],
   "source": [
    "from pptx import Presentation\n",
    "\n",
    "# Load the PowerPoint presentation\n",
    "pptx_file = \"a.pptx\"\n",
    "prs = Presentation(pptx_file)\n",
    "\n",
    "# Add a new slide (layout=0 represents a blank slide)\n",
    "slide_layout = prs.slide_layouts[0]\n",
    "slide = prs.slides.add_slide(slide_layout)\n",
    "\n",
    "# Access the title and content placeholders of the slide\n",
    "title_placeholder = slide.placeholders[0]  # Assuming the title placeholder is at index 0\n",
    "content_placeholder = slide.placeholders[1]  # Assuming the content placeholder is at index 1\n",
    "\n",
    "# Set the title and content of the slide\n",
    "title_placeholder.text = \"New Slide Title\"\n",
    "content_placeholder.text = \"This is the content of the new slide.\"\n",
    "\n",
    "# Save the modified presentation\n",
    "output_pptx_file = \"modified_presentation.pptx\"\n",
    "prs.save(output_pptx_file)\n",
    "\n",
    "print(\"Presentation modified and saved successfully!\")\n"
   ]
  },
  {
   "cell_type": "code",
   "execution_count": 9,
   "id": "97d8acc9",
   "metadata": {},
   "outputs": [
    {
     "ename": "AttributeError",
     "evalue": "'NoneType' object has no attribute 'text_frame'",
     "output_type": "error",
     "traceback": [
      "\u001b[1;31m---------------------------------------------------------------------------\u001b[0m",
      "\u001b[1;31mAttributeError\u001b[0m                            Traceback (most recent call last)",
      "\u001b[1;32m<ipython-input-9-2aba53c4d245>\u001b[0m in \u001b[0;36m<module>\u001b[1;34m\u001b[0m\n\u001b[0;32m     19\u001b[0m \u001b[1;32mif\u001b[0m \u001b[1;36m1\u001b[0m \u001b[1;33m<=\u001b[0m \u001b[0mslide_number\u001b[0m \u001b[1;33m<=\u001b[0m \u001b[0mlen\u001b[0m\u001b[1;33m(\u001b[0m\u001b[0mprs\u001b[0m\u001b[1;33m.\u001b[0m\u001b[0mslides\u001b[0m\u001b[1;33m)\u001b[0m\u001b[1;33m:\u001b[0m\u001b[1;33m\u001b[0m\u001b[1;33m\u001b[0m\u001b[0m\n\u001b[0;32m     20\u001b[0m     \u001b[0mslide_to_scroll_to\u001b[0m \u001b[1;33m=\u001b[0m \u001b[0mprs\u001b[0m\u001b[1;33m.\u001b[0m\u001b[0mslides\u001b[0m\u001b[1;33m[\u001b[0m\u001b[0mslide_number\u001b[0m \u001b[1;33m-\u001b[0m \u001b[1;36m1\u001b[0m\u001b[1;33m]\u001b[0m  \u001b[1;31m# Slide index starts from 0\u001b[0m\u001b[1;33m\u001b[0m\u001b[1;33m\u001b[0m\u001b[0m\n\u001b[1;32m---> 21\u001b[1;33m     \u001b[0mslide_to_scroll_to\u001b[0m\u001b[1;33m.\u001b[0m\u001b[0mshapes\u001b[0m\u001b[1;33m.\u001b[0m\u001b[0mtitle\u001b[0m\u001b[1;33m.\u001b[0m\u001b[0mtext_frame\u001b[0m\u001b[1;33m.\u001b[0m\u001b[0mtext\u001b[0m \u001b[1;33m=\u001b[0m \u001b[1;34m\"This slide was scrolled to!\"\u001b[0m\u001b[1;33m\u001b[0m\u001b[1;33m\u001b[0m\u001b[0m\n\u001b[0m\u001b[0;32m     22\u001b[0m     \u001b[0mprs\u001b[0m\u001b[1;33m.\u001b[0m\u001b[0mslides\u001b[0m\u001b[1;33m.\u001b[0m\u001b[0m_sldIdLst\u001b[0m\u001b[1;33m.\u001b[0m\u001b[0minsert\u001b[0m\u001b[1;33m(\u001b[0m\u001b[0mlen\u001b[0m\u001b[1;33m(\u001b[0m\u001b[0mprs\u001b[0m\u001b[1;33m.\u001b[0m\u001b[0mslides\u001b[0m\u001b[1;33m.\u001b[0m\u001b[0m_sldIdLst\u001b[0m\u001b[1;33m)\u001b[0m\u001b[1;33m,\u001b[0m \u001b[0mprs\u001b[0m\u001b[1;33m.\u001b[0m\u001b[0mslides\u001b[0m\u001b[1;33m.\u001b[0m\u001b[0m_sldIdLst\u001b[0m\u001b[1;33m[\u001b[0m\u001b[0mslide_number\u001b[0m \u001b[1;33m-\u001b[0m \u001b[1;36m1\u001b[0m\u001b[1;33m]\u001b[0m\u001b[1;33m)\u001b[0m\u001b[1;33m\u001b[0m\u001b[1;33m\u001b[0m\u001b[0m\n\u001b[0;32m     23\u001b[0m     \u001b[0mprs\u001b[0m\u001b[1;33m.\u001b[0m\u001b[0msave\u001b[0m\u001b[1;33m(\u001b[0m\u001b[1;34m\"output_presentation.pptx\"\u001b[0m\u001b[1;33m)\u001b[0m\u001b[1;33m\u001b[0m\u001b[1;33m\u001b[0m\u001b[0m\n",
      "\u001b[1;31mAttributeError\u001b[0m: 'NoneType' object has no attribute 'text_frame'"
     ]
    }
   ],
   "source": [
    "from pptx import Presentation\n",
    "import time\n",
    "\n",
    "# Load the PowerPoint presentation\n",
    "pptx_file = \"a.pptx\"\n",
    "prs = Presentation(pptx_file)\n",
    "\n",
    "# Open the text file containing input (slide number)\n",
    "text_file = \"input.txt\"\n",
    "\n",
    "# Read the input from the text file\n",
    "with open(text_file, \"r\") as file:\n",
    "    try:\n",
    "        slide_number = int(file.readline().strip())\n",
    "    except:\n",
    "        slide_number=1\n",
    "\n",
    "# Scroll to the specified slide\n",
    "if 1 <= slide_number <= len(prs.slides):\n",
    "    slide_to_scroll_to = prs.slides[slide_number - 1]  # Slide index starts from 0\n",
    "    slide_to_scroll_to.shapes.title.text_frame.text = \"This slide was scrolled to!\"\n",
    "    prs.slides._sldIdLst.insert(len(prs.slides._sldIdLst), prs.slides._sldIdLst[slide_number - 1])\n",
    "    prs.save(\"output_presentation.pptx\")\n",
    "    print(\"Scrolled to slide\", slide_number)\n",
    "else:\n",
    "    print(\"Invalid slide number.\")\n",
    "\n",
    "# Optional: Open the PowerPoint presentation using the default application\n",
    "import os\n",
    "os.startfile(\"output_presentation.pptx\")\n"
   ]
  },
  {
   "cell_type": "code",
   "execution_count": 8,
   "id": "a0080b9f",
   "metadata": {},
   "outputs": [],
   "source": [
    "import os\n",
    "\n",
    "# Path to your PowerPoint presentation file\n",
    "pptx_file = \"a.pptx\"\n",
    "\n",
    "# Open the PowerPoint presentation using the default application\n",
    "os.startfile(pptx_file)\n"
   ]
  },
  {
   "cell_type": "code",
   "execution_count": null,
   "id": "b20c6076",
   "metadata": {},
   "outputs": [],
   "source": []
  }
 ],
 "metadata": {
  "kernelspec": {
   "display_name": "Python 3 (ipykernel)",
   "language": "python",
   "name": "python3"
  },
  "language_info": {
   "codemirror_mode": {
    "name": "ipython",
    "version": 3
   },
   "file_extension": ".py",
   "mimetype": "text/x-python",
   "name": "python",
   "nbconvert_exporter": "python",
   "pygments_lexer": "ipython3",
   "version": "3.7.6"
  }
 },
 "nbformat": 4,
 "nbformat_minor": 5
}
